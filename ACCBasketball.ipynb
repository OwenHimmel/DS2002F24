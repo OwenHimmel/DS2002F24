{
  "nbformat": 4,
  "nbformat_minor": 0,
  "metadata": {
    "colab": {
      "provenance": [],
      "authorship_tag": "ABX9TyOUgj4hae0howz5kCja6VrT",
      "include_colab_link": true
    },
    "kernelspec": {
      "name": "python3",
      "display_name": "Python 3"
    },
    "language_info": {
      "name": "python"
    }
  },
  "cells": [
    {
      "cell_type": "markdown",
      "metadata": {
        "id": "view-in-github",
        "colab_type": "text"
      },
      "source": [
        "<a href=\"https://colab.research.google.com/github/OwenHimmel/DS2002F24/blob/main/ACCBasketball.ipynb\" target=\"_parent\"><img src=\"https://colab.research.google.com/assets/colab-badge.svg\" alt=\"Open In Colab\"/></a>"
      ]
    },
    {
      "cell_type": "code",
      "execution_count": 52,
      "metadata": {
        "colab": {
          "base_uri": "https://localhost:8080/",
          "height": 235
        },
        "id": "n-tmFbGgeM9z",
        "outputId": "4680a2b7-db67-4bf9-e5a1-097066a52700"
      },
      "outputs": [
        {
          "output_type": "execute_result",
          "data": {
            "text/plain": [
              "   Rk         Player Class Pos          School   G   MP  TRB  AST  STL  ...  \\\n",
              "0   1   Amaree Abram    SO   G    Georgia Tech  10  108   17   11    1  ...   \n",
              "1   2   Sola Adebisi    FR   F   Florida State   7    9    1    1    0  ...   \n",
              "2   3  Prince Aligbe    SO   F  Boston College  35  651  119   21   15  ...   \n",
              "3   4     Abe Atiyeh    SR   G  Boston College   4    6    0    0    0  ...   \n",
              "4   5    Zack Austin    JR   F      Pittsburgh  33  746  137   29   32  ...   \n",
              "\n",
              "   TOV  PF  PTS    FG%    2P%    3P%    FT%   PER   WS  BPM  \n",
              "0    9  10   34  0.262  0.318  0.200  0.615   4.1 -0.1 -6.4  \n",
              "1    1   1    2  0.500  0.500    NaN    NaN   3.5  0.0 -6.7  \n",
              "2   30  51  164  0.435  0.522  0.147  0.620   9.4  0.9 -1.3  \n",
              "3    1   0    3  0.333  0.000  1.000    NaN   1.1  0.0 -8.2  \n",
              "4   13  35  216  0.417  0.563  0.295  0.737  18.0  2.9  7.9  \n",
              "\n",
              "[5 rows x 21 columns]"
            ],
            "text/html": [
              "\n",
              "  <div id=\"df-b4ee75fd-5cef-4684-b101-f2a88a7701ee\" class=\"colab-df-container\">\n",
              "    <div>\n",
              "<style scoped>\n",
              "    .dataframe tbody tr th:only-of-type {\n",
              "        vertical-align: middle;\n",
              "    }\n",
              "\n",
              "    .dataframe tbody tr th {\n",
              "        vertical-align: top;\n",
              "    }\n",
              "\n",
              "    .dataframe thead th {\n",
              "        text-align: right;\n",
              "    }\n",
              "</style>\n",
              "<table border=\"1\" class=\"dataframe\">\n",
              "  <thead>\n",
              "    <tr style=\"text-align: right;\">\n",
              "      <th></th>\n",
              "      <th>Rk</th>\n",
              "      <th>Player</th>\n",
              "      <th>Class</th>\n",
              "      <th>Pos</th>\n",
              "      <th>School</th>\n",
              "      <th>G</th>\n",
              "      <th>MP</th>\n",
              "      <th>TRB</th>\n",
              "      <th>AST</th>\n",
              "      <th>STL</th>\n",
              "      <th>...</th>\n",
              "      <th>TOV</th>\n",
              "      <th>PF</th>\n",
              "      <th>PTS</th>\n",
              "      <th>FG%</th>\n",
              "      <th>2P%</th>\n",
              "      <th>3P%</th>\n",
              "      <th>FT%</th>\n",
              "      <th>PER</th>\n",
              "      <th>WS</th>\n",
              "      <th>BPM</th>\n",
              "    </tr>\n",
              "  </thead>\n",
              "  <tbody>\n",
              "    <tr>\n",
              "      <th>0</th>\n",
              "      <td>1</td>\n",
              "      <td>Amaree Abram</td>\n",
              "      <td>SO</td>\n",
              "      <td>G</td>\n",
              "      <td>Georgia Tech</td>\n",
              "      <td>10</td>\n",
              "      <td>108</td>\n",
              "      <td>17</td>\n",
              "      <td>11</td>\n",
              "      <td>1</td>\n",
              "      <td>...</td>\n",
              "      <td>9</td>\n",
              "      <td>10</td>\n",
              "      <td>34</td>\n",
              "      <td>0.262</td>\n",
              "      <td>0.318</td>\n",
              "      <td>0.200</td>\n",
              "      <td>0.615</td>\n",
              "      <td>4.1</td>\n",
              "      <td>-0.1</td>\n",
              "      <td>-6.4</td>\n",
              "    </tr>\n",
              "    <tr>\n",
              "      <th>1</th>\n",
              "      <td>2</td>\n",
              "      <td>Sola Adebisi</td>\n",
              "      <td>FR</td>\n",
              "      <td>F</td>\n",
              "      <td>Florida State</td>\n",
              "      <td>7</td>\n",
              "      <td>9</td>\n",
              "      <td>1</td>\n",
              "      <td>1</td>\n",
              "      <td>0</td>\n",
              "      <td>...</td>\n",
              "      <td>1</td>\n",
              "      <td>1</td>\n",
              "      <td>2</td>\n",
              "      <td>0.500</td>\n",
              "      <td>0.500</td>\n",
              "      <td>NaN</td>\n",
              "      <td>NaN</td>\n",
              "      <td>3.5</td>\n",
              "      <td>0.0</td>\n",
              "      <td>-6.7</td>\n",
              "    </tr>\n",
              "    <tr>\n",
              "      <th>2</th>\n",
              "      <td>3</td>\n",
              "      <td>Prince Aligbe</td>\n",
              "      <td>SO</td>\n",
              "      <td>F</td>\n",
              "      <td>Boston College</td>\n",
              "      <td>35</td>\n",
              "      <td>651</td>\n",
              "      <td>119</td>\n",
              "      <td>21</td>\n",
              "      <td>15</td>\n",
              "      <td>...</td>\n",
              "      <td>30</td>\n",
              "      <td>51</td>\n",
              "      <td>164</td>\n",
              "      <td>0.435</td>\n",
              "      <td>0.522</td>\n",
              "      <td>0.147</td>\n",
              "      <td>0.620</td>\n",
              "      <td>9.4</td>\n",
              "      <td>0.9</td>\n",
              "      <td>-1.3</td>\n",
              "    </tr>\n",
              "    <tr>\n",
              "      <th>3</th>\n",
              "      <td>4</td>\n",
              "      <td>Abe Atiyeh</td>\n",
              "      <td>SR</td>\n",
              "      <td>G</td>\n",
              "      <td>Boston College</td>\n",
              "      <td>4</td>\n",
              "      <td>6</td>\n",
              "      <td>0</td>\n",
              "      <td>0</td>\n",
              "      <td>0</td>\n",
              "      <td>...</td>\n",
              "      <td>1</td>\n",
              "      <td>0</td>\n",
              "      <td>3</td>\n",
              "      <td>0.333</td>\n",
              "      <td>0.000</td>\n",
              "      <td>1.000</td>\n",
              "      <td>NaN</td>\n",
              "      <td>1.1</td>\n",
              "      <td>0.0</td>\n",
              "      <td>-8.2</td>\n",
              "    </tr>\n",
              "    <tr>\n",
              "      <th>4</th>\n",
              "      <td>5</td>\n",
              "      <td>Zack Austin</td>\n",
              "      <td>JR</td>\n",
              "      <td>F</td>\n",
              "      <td>Pittsburgh</td>\n",
              "      <td>33</td>\n",
              "      <td>746</td>\n",
              "      <td>137</td>\n",
              "      <td>29</td>\n",
              "      <td>32</td>\n",
              "      <td>...</td>\n",
              "      <td>13</td>\n",
              "      <td>35</td>\n",
              "      <td>216</td>\n",
              "      <td>0.417</td>\n",
              "      <td>0.563</td>\n",
              "      <td>0.295</td>\n",
              "      <td>0.737</td>\n",
              "      <td>18.0</td>\n",
              "      <td>2.9</td>\n",
              "      <td>7.9</td>\n",
              "    </tr>\n",
              "  </tbody>\n",
              "</table>\n",
              "<p>5 rows × 21 columns</p>\n",
              "</div>\n",
              "    <div class=\"colab-df-buttons\">\n",
              "\n",
              "  <div class=\"colab-df-container\">\n",
              "    <button class=\"colab-df-convert\" onclick=\"convertToInteractive('df-b4ee75fd-5cef-4684-b101-f2a88a7701ee')\"\n",
              "            title=\"Convert this dataframe to an interactive table.\"\n",
              "            style=\"display:none;\">\n",
              "\n",
              "  <svg xmlns=\"http://www.w3.org/2000/svg\" height=\"24px\" viewBox=\"0 -960 960 960\">\n",
              "    <path d=\"M120-120v-720h720v720H120Zm60-500h600v-160H180v160Zm220 220h160v-160H400v160Zm0 220h160v-160H400v160ZM180-400h160v-160H180v160Zm440 0h160v-160H620v160ZM180-180h160v-160H180v160Zm440 0h160v-160H620v160Z\"/>\n",
              "  </svg>\n",
              "    </button>\n",
              "\n",
              "  <style>\n",
              "    .colab-df-container {\n",
              "      display:flex;\n",
              "      gap: 12px;\n",
              "    }\n",
              "\n",
              "    .colab-df-convert {\n",
              "      background-color: #E8F0FE;\n",
              "      border: none;\n",
              "      border-radius: 50%;\n",
              "      cursor: pointer;\n",
              "      display: none;\n",
              "      fill: #1967D2;\n",
              "      height: 32px;\n",
              "      padding: 0 0 0 0;\n",
              "      width: 32px;\n",
              "    }\n",
              "\n",
              "    .colab-df-convert:hover {\n",
              "      background-color: #E2EBFA;\n",
              "      box-shadow: 0px 1px 2px rgba(60, 64, 67, 0.3), 0px 1px 3px 1px rgba(60, 64, 67, 0.15);\n",
              "      fill: #174EA6;\n",
              "    }\n",
              "\n",
              "    .colab-df-buttons div {\n",
              "      margin-bottom: 4px;\n",
              "    }\n",
              "\n",
              "    [theme=dark] .colab-df-convert {\n",
              "      background-color: #3B4455;\n",
              "      fill: #D2E3FC;\n",
              "    }\n",
              "\n",
              "    [theme=dark] .colab-df-convert:hover {\n",
              "      background-color: #434B5C;\n",
              "      box-shadow: 0px 1px 3px 1px rgba(0, 0, 0, 0.15);\n",
              "      filter: drop-shadow(0px 1px 2px rgba(0, 0, 0, 0.3));\n",
              "      fill: #FFFFFF;\n",
              "    }\n",
              "  </style>\n",
              "\n",
              "    <script>\n",
              "      const buttonEl =\n",
              "        document.querySelector('#df-b4ee75fd-5cef-4684-b101-f2a88a7701ee button.colab-df-convert');\n",
              "      buttonEl.style.display =\n",
              "        google.colab.kernel.accessAllowed ? 'block' : 'none';\n",
              "\n",
              "      async function convertToInteractive(key) {\n",
              "        const element = document.querySelector('#df-b4ee75fd-5cef-4684-b101-f2a88a7701ee');\n",
              "        const dataTable =\n",
              "          await google.colab.kernel.invokeFunction('convertToInteractive',\n",
              "                                                    [key], {});\n",
              "        if (!dataTable) return;\n",
              "\n",
              "        const docLinkHtml = 'Like what you see? Visit the ' +\n",
              "          '<a target=\"_blank\" href=https://colab.research.google.com/notebooks/data_table.ipynb>data table notebook</a>'\n",
              "          + ' to learn more about interactive tables.';\n",
              "        element.innerHTML = '';\n",
              "        dataTable['output_type'] = 'display_data';\n",
              "        await google.colab.output.renderOutput(dataTable, element);\n",
              "        const docLink = document.createElement('div');\n",
              "        docLink.innerHTML = docLinkHtml;\n",
              "        element.appendChild(docLink);\n",
              "      }\n",
              "    </script>\n",
              "  </div>\n",
              "\n",
              "\n",
              "<div id=\"df-31c8a642-7006-4a9c-9daf-4007f0b9f1a3\">\n",
              "  <button class=\"colab-df-quickchart\" onclick=\"quickchart('df-31c8a642-7006-4a9c-9daf-4007f0b9f1a3')\"\n",
              "            title=\"Suggest charts\"\n",
              "            style=\"display:none;\">\n",
              "\n",
              "<svg xmlns=\"http://www.w3.org/2000/svg\" height=\"24px\"viewBox=\"0 0 24 24\"\n",
              "     width=\"24px\">\n",
              "    <g>\n",
              "        <path d=\"M19 3H5c-1.1 0-2 .9-2 2v14c0 1.1.9 2 2 2h14c1.1 0 2-.9 2-2V5c0-1.1-.9-2-2-2zM9 17H7v-7h2v7zm4 0h-2V7h2v10zm4 0h-2v-4h2v4z\"/>\n",
              "    </g>\n",
              "</svg>\n",
              "  </button>\n",
              "\n",
              "<style>\n",
              "  .colab-df-quickchart {\n",
              "      --bg-color: #E8F0FE;\n",
              "      --fill-color: #1967D2;\n",
              "      --hover-bg-color: #E2EBFA;\n",
              "      --hover-fill-color: #174EA6;\n",
              "      --disabled-fill-color: #AAA;\n",
              "      --disabled-bg-color: #DDD;\n",
              "  }\n",
              "\n",
              "  [theme=dark] .colab-df-quickchart {\n",
              "      --bg-color: #3B4455;\n",
              "      --fill-color: #D2E3FC;\n",
              "      --hover-bg-color: #434B5C;\n",
              "      --hover-fill-color: #FFFFFF;\n",
              "      --disabled-bg-color: #3B4455;\n",
              "      --disabled-fill-color: #666;\n",
              "  }\n",
              "\n",
              "  .colab-df-quickchart {\n",
              "    background-color: var(--bg-color);\n",
              "    border: none;\n",
              "    border-radius: 50%;\n",
              "    cursor: pointer;\n",
              "    display: none;\n",
              "    fill: var(--fill-color);\n",
              "    height: 32px;\n",
              "    padding: 0;\n",
              "    width: 32px;\n",
              "  }\n",
              "\n",
              "  .colab-df-quickchart:hover {\n",
              "    background-color: var(--hover-bg-color);\n",
              "    box-shadow: 0 1px 2px rgba(60, 64, 67, 0.3), 0 1px 3px 1px rgba(60, 64, 67, 0.15);\n",
              "    fill: var(--button-hover-fill-color);\n",
              "  }\n",
              "\n",
              "  .colab-df-quickchart-complete:disabled,\n",
              "  .colab-df-quickchart-complete:disabled:hover {\n",
              "    background-color: var(--disabled-bg-color);\n",
              "    fill: var(--disabled-fill-color);\n",
              "    box-shadow: none;\n",
              "  }\n",
              "\n",
              "  .colab-df-spinner {\n",
              "    border: 2px solid var(--fill-color);\n",
              "    border-color: transparent;\n",
              "    border-bottom-color: var(--fill-color);\n",
              "    animation:\n",
              "      spin 1s steps(1) infinite;\n",
              "  }\n",
              "\n",
              "  @keyframes spin {\n",
              "    0% {\n",
              "      border-color: transparent;\n",
              "      border-bottom-color: var(--fill-color);\n",
              "      border-left-color: var(--fill-color);\n",
              "    }\n",
              "    20% {\n",
              "      border-color: transparent;\n",
              "      border-left-color: var(--fill-color);\n",
              "      border-top-color: var(--fill-color);\n",
              "    }\n",
              "    30% {\n",
              "      border-color: transparent;\n",
              "      border-left-color: var(--fill-color);\n",
              "      border-top-color: var(--fill-color);\n",
              "      border-right-color: var(--fill-color);\n",
              "    }\n",
              "    40% {\n",
              "      border-color: transparent;\n",
              "      border-right-color: var(--fill-color);\n",
              "      border-top-color: var(--fill-color);\n",
              "    }\n",
              "    60% {\n",
              "      border-color: transparent;\n",
              "      border-right-color: var(--fill-color);\n",
              "    }\n",
              "    80% {\n",
              "      border-color: transparent;\n",
              "      border-right-color: var(--fill-color);\n",
              "      border-bottom-color: var(--fill-color);\n",
              "    }\n",
              "    90% {\n",
              "      border-color: transparent;\n",
              "      border-bottom-color: var(--fill-color);\n",
              "    }\n",
              "  }\n",
              "</style>\n",
              "\n",
              "  <script>\n",
              "    async function quickchart(key) {\n",
              "      const quickchartButtonEl =\n",
              "        document.querySelector('#' + key + ' button');\n",
              "      quickchartButtonEl.disabled = true;  // To prevent multiple clicks.\n",
              "      quickchartButtonEl.classList.add('colab-df-spinner');\n",
              "      try {\n",
              "        const charts = await google.colab.kernel.invokeFunction(\n",
              "            'suggestCharts', [key], {});\n",
              "      } catch (error) {\n",
              "        console.error('Error during call to suggestCharts:', error);\n",
              "      }\n",
              "      quickchartButtonEl.classList.remove('colab-df-spinner');\n",
              "      quickchartButtonEl.classList.add('colab-df-quickchart-complete');\n",
              "    }\n",
              "    (() => {\n",
              "      let quickchartButtonEl =\n",
              "        document.querySelector('#df-31c8a642-7006-4a9c-9daf-4007f0b9f1a3 button');\n",
              "      quickchartButtonEl.style.display =\n",
              "        google.colab.kernel.accessAllowed ? 'block' : 'none';\n",
              "    })();\n",
              "  </script>\n",
              "</div>\n",
              "\n",
              "    </div>\n",
              "  </div>\n"
            ],
            "application/vnd.google.colaboratory.intrinsic+json": {
              "type": "dataframe",
              "variable_name": "df"
            }
          },
          "metadata": {},
          "execution_count": 52
        }
      ],
      "source": [
        "import pandas as pd\n",
        "import numpy as np\n",
        "import matplotlib.pyplot as plt\n",
        "\n",
        "df = pd.read_csv('/content/acc_players-2324F.csv')\n",
        "\n",
        "#Read in first 5 rows\n",
        "df.head()\n"
      ]
    },
    {
      "cell_type": "code",
      "source": [
        "# Basic Analysis\n",
        "\n",
        "#Total Points\n",
        "points = df['PTS'].sum()\n",
        "print(points)"
      ],
      "metadata": {
        "colab": {
          "base_uri": "https://localhost:8080/"
        },
        "id": "guyZomiqewYd",
        "outputId": "f333854c-4d4b-40ed-f40c-a8ea6a479f7e"
      },
      "execution_count": 21,
      "outputs": [
        {
          "output_type": "stream",
          "name": "stdout",
          "text": [
            "38411\n"
          ]
        }
      ]
    },
    {
      "cell_type": "code",
      "source": [
        "#Most Minutes\n",
        "\n",
        "player_minutes = df.sort_values(by='MP', ascending=False)\n",
        "max_player = player_minutes['Player'].head(1)\n",
        "minutes = str(player_minutes['MP'].head(1))\n",
        "# print(max_player)\n",
        "# print(minutes)"
      ],
      "metadata": {
        "id": "xB4Pqaj3foB4"
      },
      "execution_count": 37,
      "outputs": []
    },
    {
      "cell_type": "code",
      "source": [
        "#Top 5 total rebounders\n",
        "\n",
        "rebounders = df.sort_values(by='TRB', ascending=False)\n",
        "top_5_rebounders = rebounders['Player'].head(5)\n",
        "\n",
        "print(top_5_rebounders)"
      ],
      "metadata": {
        "id": "BOoPNxythwNx"
      },
      "execution_count": null,
      "outputs": []
    },
    {
      "cell_type": "code",
      "source": [
        "#Player filtering\n",
        "\n",
        "#Only players who played more than 500 minutes\n",
        "\n",
        "moreminutes_df = df[df['MP'] > 500]\n",
        "\n"
      ],
      "metadata": {
        "id": "GWiH7YZqh-Ae"
      },
      "execution_count": null,
      "outputs": []
    },
    {
      "cell_type": "code",
      "source": [
        "#Highest total assists\n",
        "\n",
        "assists = moreminutes_df.sort_values(by='AST', ascending=False)\n",
        "highest_assists = assists['Player'].head(1)\n",
        "\n",
        "print(highest_assists)"
      ],
      "metadata": {
        "id": "2szHvynIiRVU"
      },
      "execution_count": null,
      "outputs": []
    },
    {
      "cell_type": "code",
      "source": [
        "#Top 3 acc assisters\n",
        "top_3_assists = assists['Player'].head(3)\n",
        "print(top_3_assists)"
      ],
      "metadata": {
        "id": "tol67lggi032"
      },
      "execution_count": null,
      "outputs": []
    },
    {
      "cell_type": "code",
      "source": [
        "#Top 3 acc blockers\n",
        "\n",
        "blocks = moreminutes_df.sort_values(by='BLK', ascending=False)\n",
        "top_3_blockers = blocks['Player'].head(3)\n",
        "print(top_3_blockers)"
      ],
      "metadata": {
        "id": "UoPpg8oDjJDA"
      },
      "execution_count": null,
      "outputs": []
    },
    {
      "cell_type": "code",
      "source": [
        "# School Based Analysis\n",
        "\n",
        "#Total Points Scored\n",
        "team_points = df.groupby('School')[['PTS']].sum().reset_index()\n",
        "print(team_points)\n"
      ],
      "metadata": {
        "id": "R1VGla91jQ30"
      },
      "execution_count": null,
      "outputs": []
    },
    {
      "cell_type": "code",
      "source": [
        "#Total Assists\n",
        "\n",
        "team_assists = df.groupby('School')[['AST']].sum().reset_index()\n",
        "print(team_assists)"
      ],
      "metadata": {
        "id": "RaZrO18hmVB-"
      },
      "execution_count": null,
      "outputs": []
    },
    {
      "cell_type": "code",
      "source": [
        "#Top 3 team scoring totals\n",
        "\n",
        "top_3_scoring = team_points.sort_values(by='PTS', ascending=False)\n",
        "top_3_scoring = top_3_scoring['School'].head(3)\n",
        "print(top_3_scoring)"
      ],
      "metadata": {
        "id": "SFMbcPn7mjsF"
      },
      "execution_count": null,
      "outputs": []
    },
    {
      "cell_type": "code",
      "source": [
        "# Top 5 ACC Scorers, Bar Graph\n",
        "\n",
        "import seaborn as sns\n",
        "\n",
        "sns.set_style('whitegrid')\n",
        "\n",
        "top_5_scorers = df.sort_values(by='PTS', ascending=False).head(5)\n",
        "\n",
        "\n",
        "plt.figure(figsize=(10,6))\n",
        "sns.barplot(x='Player', y='PTS', data=top_5_scorers)\n",
        "plt.xlabel('Player')\n",
        "plt.ylabel('Points')\n",
        "plt.title('Top 5 ACC Scorers')\n",
        "plt.show()\n",
        "\n"
      ],
      "metadata": {
        "colab": {
          "base_uri": "https://localhost:8080/",
          "height": 564
        },
        "id": "Ik7j4BsKmvua",
        "outputId": "0a5d99dd-7d6a-4bba-aa0b-ebcafe475b0d"
      },
      "execution_count": 66,
      "outputs": [
        {
          "output_type": "display_data",
          "data": {
            "text/plain": [
              "<Figure size 1000x600 with 1 Axes>"
            ],
            "image/png": "[encoded data removed]"
          },
          "metadata": {}
        }
      ]
    },
    {
      "cell_type": "code",
      "source": [
        "#Corealation between FG% and Win Shares\n",
        "\n",
        "\n",
        "plt.figure(figsize=(10,6))\n",
        "sns.scatterplot(x='FG%', y='WS', data=df)\n",
        "plt.xlabel('Field Goal Percentage')\n",
        "plt.ylabel('Win Shares')\n",
        "plt.title('Field Goal Percentage vs Win Shares')\n",
        "plt.show()\n",
        "\n",
        "#Calculate correalation Coefficent\n",
        "\n",
        "correlation = str(df['FG%'].corr(df['WS']).round(3))\n",
        "print('')\n",
        "print(\"Correalation Coefficent: \"+correlation)"
      ],
      "metadata": {
        "colab": {
          "base_uri": "https://localhost:8080/",
          "height": 599
        },
        "id": "7QhftYeEnfJh",
        "outputId": "f57e621b-5952-4a06-be70-a2c17e430900"
      },
      "execution_count": 72,
      "outputs": [
        {
          "output_type": "display_data",
          "data": {
            "text/plain": [
              "<Figure size 1000x600 with 1 Axes>"
            ],
            "image/png": "[encoded data removed]"
          },
          "metadata": {}
        },
        {
          "output_type": "stream",
          "name": "stdout",
          "text": [
            "\n",
            "Correalation Coefficent: 0.421\n"
          ]
        }
      ]
    }
  ]
}